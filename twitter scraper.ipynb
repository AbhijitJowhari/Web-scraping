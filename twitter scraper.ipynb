{
 "cells": [
  {
   "cell_type": "markdown",
   "id": "7cf3e523",
   "metadata": {},
   "source": [
    "# Abhijit Singh Jowhari\n",
    "# 220031\n",
    "\n",
    "## Importing all the required libraries"
   ]
  },
  {
   "cell_type": "code",
   "execution_count": 1,
   "id": "726ee9e6",
   "metadata": {},
   "outputs": [],
   "source": [
    "from selenium import webdriver\n",
    "from selenium.webdriver.common.keys import Keys\n",
    "from selenium.webdriver.support import expected_conditions as EC\n",
    "from selenium.webdriver.common.by import By\n",
    "from selenium.webdriver.support.wait import WebDriverWait\n",
    "import time"
   ]
  },
  {
   "cell_type": "markdown",
   "id": "1b865e0a",
   "metadata": {},
   "source": [
    "## loging in to Twitter"
   ]
  },
  {
   "cell_type": "code",
   "execution_count": 2,
   "id": "861cea0a",
   "metadata": {},
   "outputs": [
    {
     "name": "stderr",
     "output_type": "stream",
     "text": [
      "C:\\Users\\abhijit\\AppData\\Local\\Temp\\ipykernel_7420\\1591755088.py:1: DeprecationWarning: executable_path has been deprecated, please pass in a Service object\n",
      "  driver = webdriver.Chrome('C:/Users/abhijit/Desktop/AI Adventure/Assignment 1(01-05-23)/task 2/chromedriver')\n",
      "Unable to obtain driver using Selenium Manager: Selenium Manager failed for: C:\\Users\\abhijit\\AppData\\Local\\Packages\\PythonSoftwareFoundation.Python.3.10_qbz5n2kfra8p0\\LocalCache\\local-packages\\Python310\\site-packages\\selenium\\webdriver\\common\\windows\\selenium-manager.exe --browser chrome --output json.\n",
      "error sending request for url (https://chromedriver.storage.googleapis.com/LATEST_RELEASE_115): error trying to connect: dns error: No such host is known. (os error 11001)\n"
     ]
    },
    {
     "ename": "SeleniumManagerException",
     "evalue": "Message: Selenium Manager failed for: C:\\Users\\abhijit\\AppData\\Local\\Packages\\PythonSoftwareFoundation.Python.3.10_qbz5n2kfra8p0\\LocalCache\\local-packages\\Python310\\site-packages\\selenium\\webdriver\\common\\windows\\selenium-manager.exe --browser chrome --output json.\nerror sending request for url (https://chromedriver.storage.googleapis.com/LATEST_RELEASE_115): error trying to connect: dns error: No such host is known. (os error 11001)\n",
     "output_type": "error",
     "traceback": [
      "\u001b[1;31m---------------------------------------------------------------------------\u001b[0m",
      "\u001b[1;31mSeleniumManagerException\u001b[0m                  Traceback (most recent call last)",
      "Cell \u001b[1;32mIn[2], line 1\u001b[0m\n\u001b[1;32m----> 1\u001b[0m driver \u001b[39m=\u001b[39m webdriver\u001b[39m.\u001b[39;49mChrome(\u001b[39m'\u001b[39;49m\u001b[39mC:/Users/abhijit/Desktop/AI Adventure/Assignment 1(01-05-23)/task 2/chromedriver\u001b[39;49m\u001b[39m'\u001b[39;49m)\n\u001b[0;32m      3\u001b[0m driver\u001b[39m.\u001b[39mget(\u001b[39m\"\u001b[39m\u001b[39mhttps://twitter.com/i/flow/login\u001b[39m\u001b[39m\"\u001b[39m)\n\u001b[0;32m      5\u001b[0m time\u001b[39m.\u001b[39msleep(\u001b[39m2\u001b[39m)\n",
      "File \u001b[1;32m~\\AppData\\Local\\Packages\\PythonSoftwareFoundation.Python.3.10_qbz5n2kfra8p0\\LocalCache\\local-packages\\Python310\\site-packages\\selenium\\webdriver\\chrome\\webdriver.py:82\u001b[0m, in \u001b[0;36mWebDriver.__init__\u001b[1;34m(self, executable_path, port, options, service_args, desired_capabilities, service_log_path, chrome_options, service, keep_alive)\u001b[0m\n\u001b[0;32m     80\u001b[0m \u001b[39mif\u001b[39;00m \u001b[39mnot\u001b[39;00m service:\n\u001b[0;32m     81\u001b[0m     service \u001b[39m=\u001b[39m Service(executable_path, port, service_args, service_log_path)\n\u001b[1;32m---> 82\u001b[0m service\u001b[39m.\u001b[39mpath \u001b[39m=\u001b[39m DriverFinder\u001b[39m.\u001b[39;49mget_path(service, options)\n\u001b[0;32m     84\u001b[0m \u001b[39msuper\u001b[39m()\u001b[39m.\u001b[39m\u001b[39m__init__\u001b[39m(\n\u001b[0;32m     85\u001b[0m     DesiredCapabilities\u001b[39m.\u001b[39mCHROME[\u001b[39m\"\u001b[39m\u001b[39mbrowserName\u001b[39m\u001b[39m\"\u001b[39m],\n\u001b[0;32m     86\u001b[0m     \u001b[39m\"\u001b[39m\u001b[39mgoog\u001b[39m\u001b[39m\"\u001b[39m,\n\u001b[1;32m   (...)\u001b[0m\n\u001b[0;32m     93\u001b[0m     keep_alive,\n\u001b[0;32m     94\u001b[0m )\n",
      "File \u001b[1;32m~\\AppData\\Local\\Packages\\PythonSoftwareFoundation.Python.3.10_qbz5n2kfra8p0\\LocalCache\\local-packages\\Python310\\site-packages\\selenium\\webdriver\\common\\driver_finder.py:43\u001b[0m, in \u001b[0;36mDriverFinder.get_path\u001b[1;34m(service, options)\u001b[0m\n\u001b[0;32m     41\u001b[0m \u001b[39mexcept\u001b[39;00m WebDriverException \u001b[39mas\u001b[39;00m err:\n\u001b[0;32m     42\u001b[0m     logger\u001b[39m.\u001b[39mwarning(\u001b[39m\"\u001b[39m\u001b[39mUnable to obtain driver using Selenium Manager: \u001b[39m\u001b[39m\"\u001b[39m \u001b[39m+\u001b[39m err\u001b[39m.\u001b[39mmsg)\n\u001b[1;32m---> 43\u001b[0m     \u001b[39mraise\u001b[39;00m err\n\u001b[0;32m     45\u001b[0m \u001b[39mreturn\u001b[39;00m path\n",
      "File \u001b[1;32m~\\AppData\\Local\\Packages\\PythonSoftwareFoundation.Python.3.10_qbz5n2kfra8p0\\LocalCache\\local-packages\\Python310\\site-packages\\selenium\\webdriver\\common\\driver_finder.py:40\u001b[0m, in \u001b[0;36mDriverFinder.get_path\u001b[1;34m(service, options)\u001b[0m\n\u001b[0;32m     37\u001b[0m \u001b[39m@staticmethod\u001b[39m\n\u001b[0;32m     38\u001b[0m \u001b[39mdef\u001b[39;00m \u001b[39mget_path\u001b[39m(service: Service, options: BaseOptions) \u001b[39m-\u001b[39m\u001b[39m>\u001b[39m \u001b[39mstr\u001b[39m:\n\u001b[0;32m     39\u001b[0m     \u001b[39mtry\u001b[39;00m:\n\u001b[1;32m---> 40\u001b[0m         path \u001b[39m=\u001b[39m shutil\u001b[39m.\u001b[39mwhich(service\u001b[39m.\u001b[39mpath) \u001b[39mor\u001b[39;00m SeleniumManager()\u001b[39m.\u001b[39;49mdriver_location(options)\n\u001b[0;32m     41\u001b[0m     \u001b[39mexcept\u001b[39;00m WebDriverException \u001b[39mas\u001b[39;00m err:\n\u001b[0;32m     42\u001b[0m         logger\u001b[39m.\u001b[39mwarning(\u001b[39m\"\u001b[39m\u001b[39mUnable to obtain driver using Selenium Manager: \u001b[39m\u001b[39m\"\u001b[39m \u001b[39m+\u001b[39m err\u001b[39m.\u001b[39mmsg)\n",
      "File \u001b[1;32m~\\AppData\\Local\\Packages\\PythonSoftwareFoundation.Python.3.10_qbz5n2kfra8p0\\LocalCache\\local-packages\\Python310\\site-packages\\selenium\\webdriver\\common\\selenium_manager.py:101\u001b[0m, in \u001b[0;36mSeleniumManager.driver_location\u001b[1;34m(self, options)\u001b[0m\n\u001b[0;32m     98\u001b[0m     args\u001b[39m.\u001b[39mappend(\u001b[39m\"\u001b[39m\u001b[39m--browser-path\u001b[39m\u001b[39m\"\u001b[39m)\n\u001b[0;32m     99\u001b[0m     args\u001b[39m.\u001b[39mappend(\u001b[39mstr\u001b[39m(binary_location))\n\u001b[1;32m--> 101\u001b[0m result \u001b[39m=\u001b[39m \u001b[39mself\u001b[39;49m\u001b[39m.\u001b[39;49mrun(args)\n\u001b[0;32m    102\u001b[0m executable \u001b[39m=\u001b[39m result\u001b[39m.\u001b[39msplit(\u001b[39m\"\u001b[39m\u001b[39m\\t\u001b[39;00m\u001b[39m\"\u001b[39m)[\u001b[39m-\u001b[39m\u001b[39m1\u001b[39m]\u001b[39m.\u001b[39mstrip()\n\u001b[0;32m    103\u001b[0m logger\u001b[39m.\u001b[39mdebug(\u001b[39mf\u001b[39m\u001b[39m\"\u001b[39m\u001b[39mUsing driver at: \u001b[39m\u001b[39m{\u001b[39;00mexecutable\u001b[39m}\u001b[39;00m\u001b[39m\"\u001b[39m)\n",
      "File \u001b[1;32m~\\AppData\\Local\\Packages\\PythonSoftwareFoundation.Python.3.10_qbz5n2kfra8p0\\LocalCache\\local-packages\\Python310\\site-packages\\selenium\\webdriver\\common\\selenium_manager.py:122\u001b[0m, in \u001b[0;36mSeleniumManager.run\u001b[1;34m(args)\u001b[0m\n\u001b[0;32m    120\u001b[0m result \u001b[39m=\u001b[39m output[\u001b[39m\"\u001b[39m\u001b[39mresult\u001b[39m\u001b[39m\"\u001b[39m][\u001b[39m\"\u001b[39m\u001b[39mmessage\u001b[39m\u001b[39m\"\u001b[39m]\n\u001b[0;32m    121\u001b[0m \u001b[39mif\u001b[39;00m completed_proc\u001b[39m.\u001b[39mreturncode:\n\u001b[1;32m--> 122\u001b[0m     \u001b[39mraise\u001b[39;00m SeleniumManagerException(\u001b[39mf\u001b[39m\u001b[39m\"\u001b[39m\u001b[39mSelenium Manager failed for: \u001b[39m\u001b[39m{\u001b[39;00mcommand\u001b[39m}\u001b[39;00m\u001b[39m.\u001b[39m\u001b[39m\\n\u001b[39;00m\u001b[39m{\u001b[39;00mresult\u001b[39m}\u001b[39;00m\u001b[39m{\u001b[39;00mstderr\u001b[39m}\u001b[39;00m\u001b[39m\"\u001b[39m)\n\u001b[0;32m    123\u001b[0m \u001b[39melse\u001b[39;00m:\n\u001b[0;32m    124\u001b[0m     \u001b[39m# Selenium Manager exited successfully, return executable path and print warnings\u001b[39;00m\n\u001b[0;32m    125\u001b[0m     \u001b[39mfor\u001b[39;00m item \u001b[39min\u001b[39;00m output[\u001b[39m\"\u001b[39m\u001b[39mlogs\u001b[39m\u001b[39m\"\u001b[39m]:\n",
      "\u001b[1;31mSeleniumManagerException\u001b[0m: Message: Selenium Manager failed for: C:\\Users\\abhijit\\AppData\\Local\\Packages\\PythonSoftwareFoundation.Python.3.10_qbz5n2kfra8p0\\LocalCache\\local-packages\\Python310\\site-packages\\selenium\\webdriver\\common\\windows\\selenium-manager.exe --browser chrome --output json.\nerror sending request for url (https://chromedriver.storage.googleapis.com/LATEST_RELEASE_115): error trying to connect: dns error: No such host is known. (os error 11001)\n"
     ]
    }
   ],
   "source": [
    "driver = webdriver.Chrome('C:/Users/abhijit/Desktop/AI Adventure/Assignment 1(01-05-23)/task 2/chromedriver')\n",
    "\n",
    "driver.get(\"https://twitter.com/i/flow/login\")\n",
    "\n",
    "time.sleep(2)\n",
    "\n",
    "username = WebDriverWait(driver, 10).until(EC.element_to_be_clickable((By.CSS_SELECTOR, \"input[name= 'text']\")))\n",
    "username.clear()\n",
    "username.send_keys(\"AbJowhari2103\")\n",
    "\n",
    "click1 = WebDriverWait(driver, 10).until(EC.element_to_be_clickable((By.CSS_SELECTOR, \"div[class= 'css-18t94o4 css-1dbjc4n r-sdzlij r-1phboty r-rs99b7 r-ywje51 r-usiww2 r-2yi16 r-1qi8awa r-1ny4l3l r-ymttw5 r-o7ynqc r-6416eg r-lrvibr r-13qz1uu']\"))).click()\n",
    "\n",
    "password = WebDriverWait(driver, 10).until(EC.element_to_be_clickable((By.CSS_SELECTOR, \"input[name = 'password']\")))\n",
    "password.clear()\n",
    "password.send_keys(\"Abhijit@1\")\n",
    "\n",
    "time.sleep(1)\n",
    "\n",
    "click2 = WebDriverWait(driver, 100).until(EC.element_to_be_clickable((By.CSS_SELECTOR, \"div[data-testid='LoginForm_Login_Button']\"))).click()"
   ]
  },
  {
   "cell_type": "markdown",
   "id": "cc330167",
   "metadata": {},
   "source": [
    "## searching for Elon musk"
   ]
  },
  {
   "cell_type": "code",
   "execution_count": null,
   "id": "67e9ff57",
   "metadata": {},
   "outputs": [],
   "source": [
    "search_twitter = WebDriverWait(driver, 10).until(EC.element_to_be_clickable((By.CSS_SELECTOR, \"input[class='r-30o5oe r-1niwhzg r-17gur6a r-1yadl64 r-deolkf r-homxoj r-poiln3 r-7cikom r-1ny4l3l r-xyw6el r-13rk5gd r-1dz5y72 r-fdjqy7 r-13qz1uu']\")))\n",
    "search_twitter.clear()\n",
    "search_twitter.send_keys(\"@elonmusk\")\n",
    "time.sleep(2)\n",
    "search_twitter.send_keys(Keys.ENTER)"
   ]
  },
  {
   "cell_type": "code",
   "execution_count": null,
   "id": "fc5024d5",
   "metadata": {},
   "outputs": [],
   "source": [
    "time.sleep(5)\n",
    "click_on_musk = WebDriverWait(driver, 10).until(EC.element_to_be_clickable((By.CSS_SELECTOR, \"a[class= 'css-4rbku5 css-18t94o4 css-1dbjc4n r-1loqt21 r-1wbh5a2 r-dnmrzs r-1ny4l3l']\"))).click()"
   ]
  },
  {
   "cell_type": "markdown",
   "id": "862df37d",
   "metadata": {},
   "source": [
    "## function definition to extract different elements of a tweet"
   ]
  },
  {
   "cell_type": "code",
   "execution_count": null,
   "id": "81cd18ed",
   "metadata": {},
   "outputs": [],
   "source": [
    "def extract_elements(card):\n",
    "    username = card.find_element(\"xpath\", \".//span\").text\n",
    "        \n",
    "\n",
    "    twitter_handle = card.find_element(\"xpath\", \".//span[contains(text(), '@')]\").text\n",
    "    \n",
    "    response = card.find_element(\"xpath\", './/div[2]/div[2]/div[2]').text\n",
    "\n",
    "    comment = card.find_element(\"xpath\", './/div[2]/div[2]/div[1]').text\n",
    "\n",
    "    content_of_tweet = response + comment\n",
    "    tweet = (username,twitter_handle,content_of_tweet)\n",
    "    return tweet"
   ]
  },
  {
   "cell_type": "markdown",
   "id": "132cdb95",
   "metadata": {},
   "source": [
    "## Scrolling down the page"
   ]
  },
  {
   "cell_type": "code",
   "execution_count": null,
   "id": "a5586603",
   "metadata": {},
   "outputs": [],
   "source": [
    "time.sleep(2)\n",
    "no_of_card = int(input(\"enter the no. of tweets to be extracted:\"))\n",
    "tweet_data = []\n",
    "tweet_Ids = set()\n",
    "end_of_page = driver.execute_script('return window.pageYOffset;')\n",
    "scroll_attempts= 0\n",
    "scroll = True\n",
    "card_count = 0\n",
    "\n",
    "while scroll:\n",
    "    time.sleep(1)\n",
    "    tweet_selects = driver.find_elements(\"xpath\", \"//article[@data-testid = 'tweet']\")\n",
    "    for cards in tweet_selects:\n",
    "        tweet = extract_elements(cards)\n",
    "        if tweet:\n",
    "            tweet_Id = ' '.join(tweet)\n",
    "            if tweet_Id not in tweet_Ids:\n",
    "                tweet_Ids.add(tweet_Id)\n",
    "                tweet_data.append(tweet)\n",
    "                card_count +=1\n",
    "    time.sleep(1)\n",
    "    driver.execute_script('window.scrollTo(0, document.body.scrollHeight);')\n",
    "    temp_end = driver.execute_script('return window.pageYOffset;')\n",
    "    while True:\n",
    "        \n",
    "        if temp_end == end_of_page:\n",
    "            scroll_attempts += 1\n",
    "\n",
    "            if scroll_attempts > 3:\n",
    "                scroll = False\n",
    "                break\n",
    "            else:\n",
    "                time.sleep(2)\n",
    "        else:\n",
    "            end_of_page = temp_end\n",
    "            break\n",
    "    if card_count >= no_of_card:\n",
    "        break\n",
    "driver.close()"
   ]
  },
  {
   "cell_type": "code",
   "execution_count": null,
   "id": "d957a257",
   "metadata": {},
   "outputs": [
    {
     "name": "stdout",
     "output_type": "stream",
     "text": [
      "[('Pinned', '@elonmusk', 'The New York Times actually has the nerve to support calls for genocide! If ever there was a time to cancel that publication, it is now.\\n\\nYou can read their articles for free anyway using http://removepaywall.com.Elon Musk\\n@elonmusk\\n·\\nAug 4'), ('Elon Musk', '@elonmusk', 'Zuck v Musk fight will be live-streamed on 𝕏.\\n\\nAll proceeds will go to charity for veterans.Elon Musk\\n@elonmusk\\n·\\n3h'), ('Elon Musk', '@elonmusk', 'Am lifting weights throughout the day, preparing for the fight. \\n\\nDon’t have time to work out, so I just bring them to work.Elon Musk\\n@elonmusk\\n·\\n3h'), ('Elon Musk', '@elonmusk', 'Live video now works reasonably well. Just tap the button that looks like a camera when you post:Elon Musk\\n@elonmusk\\n·\\nAug 4'), ('Elon Musk', '@elonmusk', 'Elon Musk\\n@elonmusk\\n·\\nAug 4'), ('Elon Musk', '@elonmusk', 'Physics is a Ψ opElon Musk\\n@elonmusk\\n·\\nAug 4'), ('Elon Musk', '@elonmusk', 'And I learn more here than anywhere else, from artificial intelligence to new discoveries in superconductivity!Elon Musk\\n@elonmusk\\n·\\nAug 3'), ('Elon Musk', '@elonmusk', 'I get more laughs from this platform than everything else combined and I hope you do too.\\n\\nThanks for posting such great content!Elon Musk\\n@elonmusk\\n·\\nAug 3'), ('Elon Musk Retweeted', '@SpaceX', 'Falcon 9’s first stage has landed on the Just Read the Instructions droneshipSpaceX\\n@SpaceX\\n·\\nAug 3'), ('Elon Musk Retweeted', '@CommunityNotes', 'Under the hood update for those of you interested in Community Notes algorithmic development: As Community Notes expands globally, we want it to show as many notes as will be helpful and informative to people from a wide range of viewpoints. We’ve added a new set of scoring… Show moreCommunity Notes\\n@CommunityNotes\\n·\\nAug 1'), ('Elon Musk', '@elonmusk', 'Starlink works almost anywhereElon Musk\\n@elonmusk\\n·\\nJul 31'), ('Elon Musk', '@elonmusk', 'Wow, I’m glad so many people love Canada too Elon Musk\\n@elonmusk\\n·\\nJul 31'), ('Elon Musk', '@elonmusk', 'Replying to \\n@elonmuskElon Musk\\n@elonmusk\\n·\\nJul 31'), ('Elon Musk Retweeted', '@SpaceX', \"More photos of Falcon Heavy's launch and landingSpaceX\\n@SpaceX\\n·\\nJul 31\"), ('Elon Musk', '@elonmusk', 'Congrats \\n@SpaceX\\n team!Elon Musk\\n@elonmusk\\n·\\nJul 29'), ('Elon Musk Retweeted', '@SpaceX', 'Watch Falcon Heavy launch \\n@HughesConnects\\n JUPITER 3, the largest satellite ever to be launched to a geosynchronous transfer orbit → http://spacex.com/launchesSpaceX\\n@SpaceX\\n·\\nJul 29'), ('Elon Musk', '@elonmusk', 'Elon Musk\\n@elonmusk\\n·\\nJul 29'), ('Elon Musk', '@elonmusk', 'New water deluge system to protect against the immense heat & force of Starship launchElon Musk\\n@elonmusk\\n·\\nJul 29'), ('Elon Musk Retweeted', '@SpaceX', 'Replying to \\n@SpaceXSpaceX\\n@SpaceX\\n·\\nJul 29'), ('Elon Musk Retweeted', '@DavidSacks', 'I’ll be cohosting an X Space with Republican presidential candidate \\n@VivekGRamaswamy\\n and \\n@elonmusk\\n tomorrow at 1:30pm PT / 4:30pm ET.David Sacks\\n@DavidSacks\\n·\\nJul 27'), ('Elon Musk', '@elonmusk', 'Extremely concerning!Elon Musk\\n@elonmusk\\n·\\nJul 27'), ('Elon Musk', '@elonmusk', 'I’m not saying there are aliens, but …Elon Musk\\n@elonmusk\\n·\\nJul 27'), ('Elon Musk Retweeted', '@icreatelife', \"More 𝕏 algorithm observations: \\n\\n* Don't miss a day! My impressions dropped from 44.5M (in May) to 13.5M (in July) because I took a week off social media. I knew it would happen but by the time I grew enough for me and every year I take a week off from social media to re-charge.… Show moreKris Kashtanova\\n@icreatelife\\n·\\nJul 26\"), ('Elon Musk', '@elonmusk', 'It is such an honor to be able to work with and meet so many amazing peopleElon Musk\\n@elonmusk\\n·\\nJul 27'), ('Elon Musk', '@elonmusk', 'Futuristic Art DecoElon Musk\\n@elonmusk\\n·\\nJul 25'), ('Elon Musk', '@elonmusk', 'Elon Musk\\n@elonmusk\\n·\\nJul 25'), ('Elon Musk Retweeted', '@SpaceX', 'Propellant load tests recently completed for Starship Super Heavy Boosters 9 and 10SpaceX\\n@SpaceX\\n·\\nJul 25'), ('Elon Musk Retweeted', '@Starlink', 'Starlink is now available in Malaysia, marking the 60th country around the world where Starlink can provide high-speed internet connectivity → http://starlink.com/map Starlink\\n@Starlink\\n·\\nJul 25'), ('Elon Musk', '@elonmusk', 'Our headquarters tonightElon Musk\\n@elonmusk\\n·\\nJul 24'), ('Elon Musk Retweeted', '@SpaceX', 'Falcon 9 launches 22 \\n@Starlink\\n satellites from SLC-40 in FloridaSpaceX\\n@SpaceX\\n·\\nJul 24')]\n"
     ]
    }
   ],
   "source": [
    "print(tweet_data)"
   ]
  },
  {
   "cell_type": "markdown",
   "id": "7b345261",
   "metadata": {},
   "source": [
    "## Storing the data in a csv file"
   ]
  },
  {
   "cell_type": "code",
   "execution_count": null,
   "id": "1d397d0e",
   "metadata": {},
   "outputs": [],
   "source": [
    "with open('tweet_data.txt','w',encoding = 'utf-8') as f:\n",
    "    for i in range(no_of_card):\n",
    "        f.write('username:'+tweet_data[i][0]+'\\n\\n')\n",
    "        f.write('Twitter handle:'+tweet_data[i][1]+'\\n\\n')\n",
    "        f.write('Content of tweet:\\n')\n",
    "        f.write(tweet_data[i][2]+'\\n\\n\\n\\n\\n')"
   ]
  }
 ],
 "metadata": {
  "kernelspec": {
   "display_name": "Python 3 (ipykernel)",
   "language": "python",
   "name": "python3"
  },
  "language_info": {
   "codemirror_mode": {
    "name": "ipython",
    "version": 3
   },
   "file_extension": ".py",
   "mimetype": "text/x-python",
   "name": "python",
   "nbconvert_exporter": "python",
   "pygments_lexer": "ipython3",
   "version": "3.10.11"
  }
 },
 "nbformat": 4,
 "nbformat_minor": 5
}
