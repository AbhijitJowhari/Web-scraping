{
 "cells": [
  {
   "cell_type": "markdown",
   "id": "7cf3e523",
   "metadata": {},
   "source": [
    "# Abhijit Singh Jowhari\n",
    "# 220031\n",
    "\n",
    "## Importing all the required libraries"
   ]
  },
  {
   "cell_type": "code",
   "execution_count": 1,
   "id": "726ee9e6",
   "metadata": {},
   "outputs": [],
   "source": [
    "from selenium import webdriver\n",
    "from selenium.webdriver.common.keys import Keys\n",
    "from selenium.webdriver.support import expected_conditions as EC\n",
    "from selenium.webdriver.common.by import By\n",
    "from selenium.webdriver.support.wait import WebDriverWait\n",
    "import time"
   ]
  },
  {
   "cell_type": "markdown",
   "id": "1b865e0a",
   "metadata": {},
   "source": [
    "## loging in to Twitter"
   ]
  },
  {
   "cell_type": "code",
   "execution_count": 2,
   "id": "861cea0a",
   "metadata": {},
   "outputs": [
    {
     "name": "stderr",
     "output_type": "stream",
     "text": [
      "C:\\Users\\abhijit\\AppData\\Local\\Temp\\ipykernel_25952\\1577989826.py:1: DeprecationWarning: executable_path has been deprecated, please pass in a Service object\n",
      "  driver = webdriver.Chrome('C:/Users/abhijit/Desktop/AI Adventure/Assignment 1(01-05-23)/task 2/chromedriver')\n",
      "Incompatible release of chromedriver (version 112.0.5615.49) detected in PATH: C:\\Users\\abhijit\\OneDrive - IIT Kanpur\\Desktop\\AI Adventure\\Assignment 1(01-05-23)\\task 2\\chromedriver.exe\n"
     ]
    }
   ],
   "source": [
    "driver = webdriver.Chrome('C:/Users/abhijit/Desktop/AI Adventure/Assignment 1(01-05-23)/task 2/chromedriver')\n",
    "\n",
    "driver.get(\"https://twitter.com/i/flow/login\")\n",
    "\n",
    "time.sleep(2)\n",
    "\n",
    "username = WebDriverWait(driver, 10).until(EC.element_to_be_clickable((By.CSS_SELECTOR, \"input[name= 'text']\")))\n",
    "username.clear()\n",
    "username.send_keys(\"AbJowhari2103\")\n",
    "\n",
    "click1 = WebDriverWait(driver, 10).until(EC.element_to_be_clickable((By.CSS_SELECTOR, \"div[class= 'css-18t94o4 css-1dbjc4n r-sdzlij r-1phboty r-rs99b7 r-ywje51 r-usiww2 r-2yi16 r-1qi8awa r-1ny4l3l r-ymttw5 r-o7ynqc r-6416eg r-lrvibr r-13qz1uu']\"))).click()\n",
    "\n",
    "password = WebDriverWait(driver, 10).until(EC.element_to_be_clickable((By.CSS_SELECTOR, \"input[name = 'password']\")))\n",
    "password.clear()\n",
    "password.send_keys(\"Abhijit@1\")\n",
    "\n",
    "click2 = WebDriverWait(driver, 100).until(EC.element_to_be_clickable((By.CSS_SELECTOR, \"div[class= 'css-18t94o4 css-1dbjc4n r-1sw30gj r-sdzlij r-1phboty r-rs99b7 r-19yznuf r-64el8z r-1ny4l3l r-1dye5f7 r-o7ynqc r-6416eg r-lrvibr'\"))).click()"
   ]
  },
  {
   "cell_type": "markdown",
   "id": "cc330167",
   "metadata": {},
   "source": [
    "## searching for Elon musk"
   ]
  },
  {
   "cell_type": "code",
   "execution_count": 3,
   "id": "67e9ff57",
   "metadata": {},
   "outputs": [],
   "source": [
    "search_twitter = WebDriverWait(driver, 10).until(EC.element_to_be_clickable((By.XPATH, \"//input[@placeholder='Search Twitter']\")))\n",
    "search_twitter.clear()\n",
    "search_twitter.send_keys(\"@elonmusk\")\n",
    "search_twitter.send_keys(Keys.ENTER)"
   ]
  },
  {
   "cell_type": "code",
   "execution_count": 4,
   "id": "fc5024d5",
   "metadata": {},
   "outputs": [],
   "source": [
    "time.sleep(5)\n",
    "click_on_musk = WebDriverWait(driver, 10).until(EC.element_to_be_clickable((By.CSS_SELECTOR, \"a[class= 'css-4rbku5 css-18t94o4 css-1dbjc4n r-1loqt21 r-1wbh5a2 r-dnmrzs r-1ny4l3l']\"))).click()"
   ]
  },
  {
   "cell_type": "markdown",
   "id": "862df37d",
   "metadata": {},
   "source": [
    "## function definition to extract different elements of a tweet"
   ]
  },
  {
   "cell_type": "code",
   "execution_count": 5,
   "id": "81cd18ed",
   "metadata": {},
   "outputs": [],
   "source": [
    "def extract_elements(card):\n",
    "    username = card.find_element(\"xpath\", \".//span\").text\n",
    "        \n",
    "\n",
    "    twitter_handle = card.find_element(\"xpath\", \".//span[contains(text(), '@')]\").text\n",
    "    \n",
    "    try:\n",
    "        date_time = card.find_element(\"xpath\", \".//time\").get_attribute('datetime')\n",
    "    except NoSuchElementException:\n",
    "        return\n",
    "    \n",
    "    response = card.find_element(\"xpath\", './/div[2]/div[2]/div[2]').text\n",
    "\n",
    "    comment = card.find_element(\"xpath\", './/div[2]/div[2]/div[1]').text\n",
    "\n",
    "    content_of_tweet = response + comment\n",
    "    tweet = (username,twitter_handle,date_time,content_of_tweet)\n",
    "    return tweet"
   ]
  },
  {
   "cell_type": "markdown",
   "id": "132cdb95",
   "metadata": {},
   "source": [
    "## Scrolling down the page"
   ]
  },
  {
   "cell_type": "code",
   "execution_count": 7,
   "id": "a5586603",
   "metadata": {},
   "outputs": [
    {
     "name": "stdout",
     "output_type": "stream",
     "text": [
      "enter the no. of tweets to be extracted:8\n"
     ]
    },
    {
     "ename": "NameError",
     "evalue": "name 'NoSuchElementException' is not defined",
     "output_type": "error",
     "traceback": [
      "\u001b[1;31m---------------------------------------------------------------------------\u001b[0m",
      "\u001b[1;31mNoSuchElementException\u001b[0m                    Traceback (most recent call last)",
      "Cell \u001b[1;32mIn[5], line 8\u001b[0m, in \u001b[0;36mextract_elements\u001b[1;34m(card)\u001b[0m\n\u001b[0;32m      7\u001b[0m \u001b[38;5;28;01mtry\u001b[39;00m:\n\u001b[1;32m----> 8\u001b[0m     date_time \u001b[38;5;241m=\u001b[39m \u001b[43mcard\u001b[49m\u001b[38;5;241;43m.\u001b[39;49m\u001b[43mfind_element\u001b[49m\u001b[43m(\u001b[49m\u001b[38;5;124;43m\"\u001b[39;49m\u001b[38;5;124;43mxpath\u001b[39;49m\u001b[38;5;124;43m\"\u001b[39;49m\u001b[43m,\u001b[49m\u001b[43m \u001b[49m\u001b[38;5;124;43m\"\u001b[39;49m\u001b[38;5;124;43m.//time\u001b[39;49m\u001b[38;5;124;43m\"\u001b[39;49m\u001b[43m)\u001b[49m\u001b[38;5;241m.\u001b[39mget_attribute(\u001b[38;5;124m'\u001b[39m\u001b[38;5;124mdatetime\u001b[39m\u001b[38;5;124m'\u001b[39m)\n\u001b[0;32m      9\u001b[0m \u001b[38;5;28;01mexcept\u001b[39;00m NoSuchElementException:\n",
      "File \u001b[1;32m~\\AppData\\Local\\Packages\\PythonSoftwareFoundation.Python.3.10_qbz5n2kfra8p0\\LocalCache\\local-packages\\Python310\\site-packages\\selenium\\webdriver\\remote\\webelement.py:425\u001b[0m, in \u001b[0;36mWebElement.find_element\u001b[1;34m(self, by, value)\u001b[0m\n\u001b[0;32m    423\u001b[0m     value \u001b[38;5;241m=\u001b[39m \u001b[38;5;124mf\u001b[39m\u001b[38;5;124m'\u001b[39m\u001b[38;5;124m[name=\u001b[39m\u001b[38;5;124m\"\u001b[39m\u001b[38;5;132;01m{\u001b[39;00mvalue\u001b[38;5;132;01m}\u001b[39;00m\u001b[38;5;124m\"\u001b[39m\u001b[38;5;124m]\u001b[39m\u001b[38;5;124m'\u001b[39m\n\u001b[1;32m--> 425\u001b[0m \u001b[38;5;28;01mreturn\u001b[39;00m \u001b[38;5;28;43mself\u001b[39;49m\u001b[38;5;241;43m.\u001b[39;49m\u001b[43m_execute\u001b[49m\u001b[43m(\u001b[49m\u001b[43mCommand\u001b[49m\u001b[38;5;241;43m.\u001b[39;49m\u001b[43mFIND_CHILD_ELEMENT\u001b[49m\u001b[43m,\u001b[49m\u001b[43m \u001b[49m\u001b[43m{\u001b[49m\u001b[38;5;124;43m\"\u001b[39;49m\u001b[38;5;124;43musing\u001b[39;49m\u001b[38;5;124;43m\"\u001b[39;49m\u001b[43m:\u001b[49m\u001b[43m \u001b[49m\u001b[43mby\u001b[49m\u001b[43m,\u001b[49m\u001b[43m \u001b[49m\u001b[38;5;124;43m\"\u001b[39;49m\u001b[38;5;124;43mvalue\u001b[39;49m\u001b[38;5;124;43m\"\u001b[39;49m\u001b[43m:\u001b[49m\u001b[43m \u001b[49m\u001b[43mvalue\u001b[49m\u001b[43m}\u001b[49m\u001b[43m)\u001b[49m[\u001b[38;5;124m\"\u001b[39m\u001b[38;5;124mvalue\u001b[39m\u001b[38;5;124m\"\u001b[39m]\n",
      "File \u001b[1;32m~\\AppData\\Local\\Packages\\PythonSoftwareFoundation.Python.3.10_qbz5n2kfra8p0\\LocalCache\\local-packages\\Python310\\site-packages\\selenium\\webdriver\\remote\\webelement.py:403\u001b[0m, in \u001b[0;36mWebElement._execute\u001b[1;34m(self, command, params)\u001b[0m\n\u001b[0;32m    402\u001b[0m params[\u001b[38;5;124m\"\u001b[39m\u001b[38;5;124mid\u001b[39m\u001b[38;5;124m\"\u001b[39m] \u001b[38;5;241m=\u001b[39m \u001b[38;5;28mself\u001b[39m\u001b[38;5;241m.\u001b[39m_id\n\u001b[1;32m--> 403\u001b[0m \u001b[38;5;28;01mreturn\u001b[39;00m \u001b[38;5;28;43mself\u001b[39;49m\u001b[38;5;241;43m.\u001b[39;49m\u001b[43m_parent\u001b[49m\u001b[38;5;241;43m.\u001b[39;49m\u001b[43mexecute\u001b[49m\u001b[43m(\u001b[49m\u001b[43mcommand\u001b[49m\u001b[43m,\u001b[49m\u001b[43m \u001b[49m\u001b[43mparams\u001b[49m\u001b[43m)\u001b[49m\n",
      "File \u001b[1;32m~\\AppData\\Local\\Packages\\PythonSoftwareFoundation.Python.3.10_qbz5n2kfra8p0\\LocalCache\\local-packages\\Python310\\site-packages\\selenium\\webdriver\\remote\\webdriver.py:440\u001b[0m, in \u001b[0;36mWebDriver.execute\u001b[1;34m(self, driver_command, params)\u001b[0m\n\u001b[0;32m    439\u001b[0m \u001b[38;5;28;01mif\u001b[39;00m response:\n\u001b[1;32m--> 440\u001b[0m     \u001b[38;5;28;43mself\u001b[39;49m\u001b[38;5;241;43m.\u001b[39;49m\u001b[43merror_handler\u001b[49m\u001b[38;5;241;43m.\u001b[39;49m\u001b[43mcheck_response\u001b[49m\u001b[43m(\u001b[49m\u001b[43mresponse\u001b[49m\u001b[43m)\u001b[49m\n\u001b[0;32m    441\u001b[0m     response[\u001b[38;5;124m\"\u001b[39m\u001b[38;5;124mvalue\u001b[39m\u001b[38;5;124m\"\u001b[39m] \u001b[38;5;241m=\u001b[39m \u001b[38;5;28mself\u001b[39m\u001b[38;5;241m.\u001b[39m_unwrap_value(response\u001b[38;5;241m.\u001b[39mget(\u001b[38;5;124m\"\u001b[39m\u001b[38;5;124mvalue\u001b[39m\u001b[38;5;124m\"\u001b[39m, \u001b[38;5;28;01mNone\u001b[39;00m))\n",
      "File \u001b[1;32m~\\AppData\\Local\\Packages\\PythonSoftwareFoundation.Python.3.10_qbz5n2kfra8p0\\LocalCache\\local-packages\\Python310\\site-packages\\selenium\\webdriver\\remote\\errorhandler.py:245\u001b[0m, in \u001b[0;36mErrorHandler.check_response\u001b[1;34m(self, response)\u001b[0m\n\u001b[0;32m    244\u001b[0m     \u001b[38;5;28;01mraise\u001b[39;00m exception_class(message, screen, stacktrace, alert_text)  \u001b[38;5;66;03m# type: ignore[call-arg]  # mypy is not smart enough here\u001b[39;00m\n\u001b[1;32m--> 245\u001b[0m \u001b[38;5;28;01mraise\u001b[39;00m exception_class(message, screen, stacktrace)\n",
      "\u001b[1;31mNoSuchElementException\u001b[0m: Message: no such element: Unable to locate element: {\"method\":\"xpath\",\"selector\":\".//time\"}\n  (Session info: chrome=114.0.5735.199)\nStacktrace:\nBacktrace:\n\tGetHandleVerifier [0x007DA813+48355]\n\t(No symbol) [0x0076C4B1]\n\t(No symbol) [0x00675358]\n\t(No symbol) [0x006A09A5]\n\t(No symbol) [0x006A0B3B]\n\t(No symbol) [0x00699AE1]\n\t(No symbol) [0x006BA784]\n\t(No symbol) [0x00699A36]\n\t(No symbol) [0x006BAA94]\n\t(No symbol) [0x006CC922]\n\t(No symbol) [0x006BA536]\n\t(No symbol) [0x006982DC]\n\t(No symbol) [0x006993DD]\n\tGetHandleVerifier [0x00A3AABD+2539405]\n\tGetHandleVerifier [0x00A7A78F+2800735]\n\tGetHandleVerifier [0x00A7456C+2775612]\n\tGetHandleVerifier [0x008651E0+616112]\n\t(No symbol) [0x00775F8C]\n\t(No symbol) [0x00772328]\n\t(No symbol) [0x0077240B]\n\t(No symbol) [0x00764FF7]\n\tBaseThreadInitThunk [0x76467D59+25]\n\tRtlInitializeExceptionChain [0x76ECB79B+107]\n\tRtlClearBits [0x76ECB71F+191]\n",
      "\nDuring handling of the above exception, another exception occurred:\n",
      "\u001b[1;31mNameError\u001b[0m                                 Traceback (most recent call last)",
      "Cell \u001b[1;32mIn[7], line 14\u001b[0m\n\u001b[0;32m     12\u001b[0m tweet_selects \u001b[38;5;241m=\u001b[39m driver\u001b[38;5;241m.\u001b[39mfind_elements(\u001b[38;5;124m\"\u001b[39m\u001b[38;5;124mxpath\u001b[39m\u001b[38;5;124m\"\u001b[39m, \u001b[38;5;124m\"\u001b[39m\u001b[38;5;124m//article[@data-testid = \u001b[39m\u001b[38;5;124m'\u001b[39m\u001b[38;5;124mtweet\u001b[39m\u001b[38;5;124m'\u001b[39m\u001b[38;5;124m]\u001b[39m\u001b[38;5;124m\"\u001b[39m)\n\u001b[0;32m     13\u001b[0m \u001b[38;5;28;01mfor\u001b[39;00m cards \u001b[38;5;129;01min\u001b[39;00m tweet_selects:\n\u001b[1;32m---> 14\u001b[0m     tweet \u001b[38;5;241m=\u001b[39m \u001b[43mextract_elements\u001b[49m\u001b[43m(\u001b[49m\u001b[43mcards\u001b[49m\u001b[43m)\u001b[49m\n\u001b[0;32m     15\u001b[0m     \u001b[38;5;28;01mif\u001b[39;00m tweet:\n\u001b[0;32m     16\u001b[0m         tweet_Id \u001b[38;5;241m=\u001b[39m \u001b[38;5;124m'\u001b[39m\u001b[38;5;124m \u001b[39m\u001b[38;5;124m'\u001b[39m\u001b[38;5;241m.\u001b[39mjoin(tweet)\n",
      "Cell \u001b[1;32mIn[5], line 9\u001b[0m, in \u001b[0;36mextract_elements\u001b[1;34m(card)\u001b[0m\n\u001b[0;32m      7\u001b[0m \u001b[38;5;28;01mtry\u001b[39;00m:\n\u001b[0;32m      8\u001b[0m     date_time \u001b[38;5;241m=\u001b[39m card\u001b[38;5;241m.\u001b[39mfind_element(\u001b[38;5;124m\"\u001b[39m\u001b[38;5;124mxpath\u001b[39m\u001b[38;5;124m\"\u001b[39m, \u001b[38;5;124m\"\u001b[39m\u001b[38;5;124m.//time\u001b[39m\u001b[38;5;124m\"\u001b[39m)\u001b[38;5;241m.\u001b[39mget_attribute(\u001b[38;5;124m'\u001b[39m\u001b[38;5;124mdatetime\u001b[39m\u001b[38;5;124m'\u001b[39m)\n\u001b[1;32m----> 9\u001b[0m \u001b[38;5;28;01mexcept\u001b[39;00m \u001b[43mNoSuchElementException\u001b[49m:\n\u001b[0;32m     10\u001b[0m     \u001b[38;5;28;01mreturn\u001b[39;00m\n\u001b[0;32m     12\u001b[0m response \u001b[38;5;241m=\u001b[39m card\u001b[38;5;241m.\u001b[39mfind_element(\u001b[38;5;124m\"\u001b[39m\u001b[38;5;124mxpath\u001b[39m\u001b[38;5;124m\"\u001b[39m, \u001b[38;5;124m'\u001b[39m\u001b[38;5;124m.//div[2]/div[2]/div[2]\u001b[39m\u001b[38;5;124m'\u001b[39m)\u001b[38;5;241m.\u001b[39mtext\n",
      "\u001b[1;31mNameError\u001b[0m: name 'NoSuchElementException' is not defined"
     ]
    }
   ],
   "source": [
    "time.sleep(2)\n",
    "no_of_card = int(input(\"enter the no. of tweets to be extracted:\"))\n",
    "tweet_data = []\n",
    "tweet_Ids = set()\n",
    "end_of_page = driver.execute_script('return window.pageYOffset;')\n",
    "scroll_attempts= 0\n",
    "scroll = True\n",
    "card_count = 0\n",
    "\n",
    "while scroll:\n",
    "    time.sleep(1)\n",
    "    tweet_selects = driver.find_elements(\"xpath\", \"//article[@data-testid = 'tweet']\")\n",
    "    for cards in tweet_selects:\n",
    "        tweet = extract_elements(cards)\n",
    "        if tweet:\n",
    "            tweet_Id = ' '.join(tweet)\n",
    "            if tweet_Id not in tweet_Ids:\n",
    "                tweet_Ids.add(tweet_Id)\n",
    "                tweet_data.append(tweet)\n",
    "                card_count +=1\n",
    "    time.sleep(1)\n",
    "    driver.execute_script('window.scrollTo(0, document.body.scrollHeight);')\n",
    "    temp_end = driver.execute_script('return window.pageYOffset;')\n",
    "    while True:\n",
    "        \n",
    "        if temp_end == end_of_page:\n",
    "            scroll_attempts += 1\n",
    "\n",
    "            if scroll_attempts > 3:\n",
    "                scroll = False\n",
    "                break\n",
    "            else:\n",
    "                time.sleep(2)\n",
    "        else:\n",
    "            end_of_page = temp_end\n",
    "            break\n",
    "    if card_count >= no_of_card:\n",
    "        break\n",
    "driver.close()"
   ]
  },
  {
   "cell_type": "markdown",
   "id": "7b345261",
   "metadata": {},
   "source": [
    "## Storing the data in a csv file"
   ]
  },
  {
   "cell_type": "code",
   "execution_count": null,
   "id": "cadd69f4",
   "metadata": {},
   "outputs": [],
   "source": [
    "import csv\n",
    "headers = ['username','twitter_handle','date_time','content of tweet']\n",
    "with open('tweet_data.csv','w',newline = '', encoding='utf-8') as file:\n",
    "    writer = csv.writer(file)\n",
    "    writer.writerow(headers)\n",
    "    writer.writerows(tweet_data[:no_of_card])"
   ]
  }
 ],
 "metadata": {
  "kernelspec": {
   "display_name": "Python 3 (ipykernel)",
   "language": "python",
   "name": "python3"
  },
  "language_info": {
   "codemirror_mode": {
    "name": "ipython",
    "version": 3
   },
   "file_extension": ".py",
   "mimetype": "text/x-python",
   "name": "python",
   "nbconvert_exporter": "python",
   "pygments_lexer": "ipython3",
   "version": "3.10.11"
  }
 },
 "nbformat": 4,
 "nbformat_minor": 5
}
