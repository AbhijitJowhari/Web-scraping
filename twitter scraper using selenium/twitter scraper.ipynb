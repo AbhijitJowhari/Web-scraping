{
 "cells": [
  {
   "cell_type": "markdown",
   "id": "7cf3e523",
   "metadata": {},
   "source": [
    "# Abhijit Singh Jowhari\n",
    "# 220031\n",
    "\n",
    "## Importing all the required libraries"
   ]
  },
  {
   "cell_type": "code",
   "execution_count": 3,
   "id": "726ee9e6",
   "metadata": {},
   "outputs": [],
   "source": [
    "from selenium import webdriver\n",
    "from selenium.webdriver.common.keys import Keys\n",
    "from selenium.webdriver.support import expected_conditions as EC\n",
    "from selenium.webdriver.common.by import By\n",
    "from selenium.webdriver.support.wait import WebDriverWait\n",
    "import time\n",
    "\n",
    "from selenium import webdriver\n",
    "from selenium.webdriver.chrome.service import Service\n",
    "from webdriver_manager.chrome import ChromeDriverManager"
   ]
  },
  {
   "cell_type": "markdown",
   "id": "1b865e0a",
   "metadata": {},
   "source": [
    "## loging in to Twitter"
   ]
  },
  {
   "cell_type": "code",
   "execution_count": null,
   "id": "861cea0a",
   "metadata": {},
   "outputs": [],
   "source": [
    "driver = webdriver.Chrome(service=Service(ChromeDriverManager().install()))\n",
    "\n",
    "driver.get(\"https://twitter.com/i/flow/login\")\n",
    "\n",
    "time.sleep(2)\n",
    "\n",
    "username = WebDriverWait(driver, 10).until(EC.element_to_be_clickable((By.CSS_SELECTOR, \"input[name= 'text']\")))\n",
    "username.clear()\n",
    "username.send_keys(\"AbJowhari2103\")\n",
    "\n",
    "click1 = WebDriverWait(driver, 10).until(EC.element_to_be_clickable((By.CSS_SELECTOR, \"div[class= 'css-18t94o4 css-1dbjc4n r-sdzlij r-1phboty r-rs99b7 r-ywje51 r-usiww2 r-2yi16 r-1qi8awa r-1ny4l3l r-ymttw5 r-o7ynqc r-6416eg r-lrvibr r-13qz1uu']\"))).click()\n",
    "\n",
    "password = WebDriverWait(driver, 10).until(EC.element_to_be_clickable((By.CSS_SELECTOR, \"input[name = 'password']\")))\n",
    "password.clear()\n",
    "password.send_keys(\"Abhijit@1\")\n",
    "\n",
    "time.sleep(1)\n",
    "\n",
    "click2 = WebDriverWait(driver, 100).until(EC.element_to_be_clickable((By.CSS_SELECTOR, \"div[data-testid='LoginForm_Login_Button']\"))).click()"
   ]
  },
  {
   "cell_type": "markdown",
   "id": "cc330167",
   "metadata": {},
   "source": [
    "## searching for Elon musk"
   ]
  },
  {
   "cell_type": "code",
   "execution_count": null,
   "id": "67e9ff57",
   "metadata": {},
   "outputs": [],
   "source": [
    "search_twitter = WebDriverWait(driver, 10).until(EC.element_to_be_clickable((By.CSS_SELECTOR, \"input[class='r-30o5oe r-1niwhzg r-17gur6a r-1yadl64 r-deolkf r-homxoj r-poiln3 r-7cikom r-1ny4l3l r-xyw6el r-13rk5gd r-1dz5y72 r-fdjqy7 r-13qz1uu']\")))\n",
    "search_twitter.clear()\n",
    "search_twitter.send_keys(\"@elonmusk\")\n",
    "time.sleep(2)\n",
    "search_twitter.send_keys(Keys.ENTER)"
   ]
  },
  {
   "cell_type": "code",
   "execution_count": null,
   "id": "fc5024d5",
   "metadata": {},
   "outputs": [],
   "source": [
    "time.sleep(5)\n",
    "click_on_musk = WebDriverWait(driver, 10).until(EC.element_to_be_clickable((By.CSS_SELECTOR, \"a[class= 'css-4rbku5 css-18t94o4 css-1dbjc4n r-1loqt21 r-1wbh5a2 r-dnmrzs r-1ny4l3l']\"))).click()"
   ]
  },
  {
   "cell_type": "markdown",
   "id": "862df37d",
   "metadata": {},
   "source": [
    "## function definition to extract different elements of a tweet"
   ]
  },
  {
   "cell_type": "code",
   "execution_count": null,
   "id": "81cd18ed",
   "metadata": {},
   "outputs": [],
   "source": [
    "def extract_elements(card):\n",
    "    username = card.find_element(\"xpath\", \".//span\").text\n",
    "        \n",
    "\n",
    "    twitter_handle = card.find_element(\"xpath\", \".//span[contains(text(), '@')]\").text\n",
    "    \n",
    "    response = card.find_element(\"xpath\", './/div[2]/div[2]/div[2]').text\n",
    "\n",
    "    comment = card.find_element(\"xpath\", './/div[2]/div[2]/div[1]').text\n",
    "\n",
    "    content_of_tweet = response + comment\n",
    "    tweet = (username,twitter_handle,content_of_tweet)\n",
    "    return tweet"
   ]
  },
  {
   "cell_type": "markdown",
   "id": "132cdb95",
   "metadata": {},
   "source": [
    "## Scrolling down the page"
   ]
  },
  {
   "cell_type": "code",
   "execution_count": null,
   "id": "a5586603",
   "metadata": {},
   "outputs": [],
   "source": [
    "time.sleep(2)\n",
    "no_of_card = int(input(\"enter the no. of tweets to be extracted:\"))\n",
    "tweet_data = []\n",
    "tweet_Ids = set()\n",
    "end_of_page = driver.execute_script('return window.pageYOffset;')\n",
    "scroll_attempts= 0\n",
    "scroll = True\n",
    "card_count = 0\n",
    "\n",
    "while scroll:\n",
    "    time.sleep(1)\n",
    "    tweet_selects = driver.find_elements(\"xpath\", \"//article[@data-testid = 'tweet']\")\n",
    "    for cards in tweet_selects:\n",
    "        tweet = extract_elements(cards)\n",
    "        if tweet:\n",
    "            tweet_Id = ' '.join(tweet)\n",
    "            if tweet_Id not in tweet_Ids:\n",
    "                tweet_Ids.add(tweet_Id)\n",
    "                tweet_data.append(tweet)\n",
    "                card_count +=1\n",
    "    time.sleep(1)\n",
    "    driver.execute_script('window.scrollTo(0, document.body.scrollHeight);')\n",
    "    temp_end = driver.execute_script('return window.pageYOffset;')\n",
    "    while True:\n",
    "        \n",
    "        if temp_end == end_of_page:\n",
    "            scroll_attempts += 1\n",
    "\n",
    "            if scroll_attempts > 3:\n",
    "                scroll = False\n",
    "                break\n",
    "            else:\n",
    "                time.sleep(2)\n",
    "        else:\n",
    "            end_of_page = temp_end\n",
    "            break\n",
    "    if card_count >= no_of_card:\n",
    "        break\n",
    "driver.close()"
   ]
  },
  {
   "cell_type": "code",
   "execution_count": null,
   "id": "d957a257",
   "metadata": {},
   "outputs": [
    {
     "name": "stdout",
     "output_type": "stream",
     "text": [
      "[('Elon Musk Retweeted', '@SpaceX', 'Falcon 9’s first stage has landed on the Of Course I Still Love You droneshipSpaceX\\n@SpaceX\\n·\\n3h'), ('Elon Musk Retweeted', '@enriquebrgn', 'last week we rolled out this feature to more users, get notified about people you care about!Enrique\\n@enriquebrgn\\n·\\n9h'), ('Elon Musk Retweeted', '@neuralink', 'We’re happy to announce our $280M Series D round led by \\n@foundersfund\\n. We’re extremely excited about this next chapter at Neuralink. \\n\\nIf you’d like to help make the first human experience incredible and work on engineering challenges to restore vision and mobility, come join!… Show moreNeuralink\\n@neuralink\\n·\\n15h'), ('Elon Musk Retweeted', '@Tesla', 'All you have to do is enter your destinationTesla\\n@Tesla\\n·\\nAug 6'), ('Elon Musk', '@elonmusk', 'If you were unfairly treated by your employer due to posting or liking something on this platform, we will fund your legal bill.\\n\\nNo limit. \\n\\nPlease let us know.Elon Musk\\n@elonmusk\\n·\\nAug 6'), ('Elon Musk', '@elonmusk', 'To be eligible for your ad revenue share, you must be an X Premium (Blue) subscriber. \\n\\nThe ad money will otherwise be kept by X if you are not an X Premium (Blue) subscriber. \\n\\nThis program is open to everyone.Elon Musk\\n@elonmusk\\n·\\nAug 5'), ('Elon Musk Retweeted', '@SpaceX', 'Booster 9 completed a flight-like chill and spin of the Raptor engine pumps in advance of static fireSpaceX\\n@SpaceX\\n·\\nAug 5'), ('Elon Musk', '@elonmusk', 'Long, but interesting. I recommend playing at 1.5 speed with pic in pic, so you can still use X and other apps while listening.Elon Musk\\n@elonmusk\\n·\\nAug 5'), ('Elon Musk', '@elonmusk', 'Interest in ad rev share by content creators has far exceeded our expectations, so will take a few more days to process. \\n\\nMajor payouts coming soon!Elon Musk\\n@elonmusk\\n·\\nAug 5'), ('Elon Musk Retweeted', '@boringcompany', 'Starting the tunnel buildout at \\n@WestgateVegasThe Boring Company\\n@boringcompany\\n·\\nAug 5'), ('Elon Musk', '@elonmusk', 'Preparing for next Starship flight! This time, I think we have ~50% probability of reaching orbital velocity, however even getting to stage separation would be a win.Elon Musk\\n@elonmusk\\n·\\nAug 5'), ('Elon Musk', '@elonmusk', 'And a massive amount of infrastructure software & hardware improvements!\\n\\nWe will do a post on that too. The list of technical achievements by the X team is incredible.Elon Musk\\n@elonmusk\\n·\\nAug 3'), ('Elon Musk', '@elonmusk', 'Super Important to Support Creators!\\n\\nIf you can afford it, please subscribe to as many creators on this platform as you find interesting. \\n\\nPeople from every corner of the world post incredible content on 𝕏, but often live in tough circumstances, where even a few hundred… Show moreElon Musk\\n@elonmusk\\n·\\nAug 3'), ('Elon Musk', '@elonmusk', 'Interesting interview of Devon Archer by \\n@TuckerCarlsonElon Musk\\n@elonmusk\\n·\\nAug 3'), ('Elon Musk Retweeted', '@Tesla', 'Most repairs & maintenance can be done wherever you parkTesla\\n@Tesla\\n·\\nAug 2'), ('Elon Musk', '@elonmusk', 'Thank you for your contributions to information accuracy on this platform!Elon Musk\\n@elonmusk\\n·\\nAug 2'), ('Elon Musk Retweeted', '@Starlink', 'Starlink is self-orienting and connects in minutes as long as it has a clear view of the sky Starlink\\n@Starlink\\n·\\nAug 2'), ('Elon Musk', '@elonmusk', 'Unless there are a few issues where you at least slightly disagree with your political party, then you are not in a political party, you are in a cultElon Musk\\n@elonmusk\\n·\\nAug 1'), ('Elon Musk', '@elonmusk', 'I  CanadaElon Musk\\n@elonmusk\\n·\\nJul 31'), ('Elon Musk', '@elonmusk', 'Oh I get it now! Some people are reading the t-shirt as saying “I  an AI”. What a funny misinterpretation Elon Musk\\n@elonmusk\\n·\\nAug 1'), ('Elon Musk', '@elonmusk', 'Just a little cheeky humorElon Musk\\n@elonmusk\\n·\\nAug 1'), ('Elon Musk', '@elonmusk', 'It is important for more people to come to work in San Francisco or the rest of the city can’t surviveElon Musk\\n@elonmusk\\n·\\nAug 1')]\n"
     ]
    }
   ],
   "source": [
    "print(tweet_data)"
   ]
  },
  {
   "cell_type": "markdown",
   "id": "7b345261",
   "metadata": {},
   "source": [
    "## Storing the data in a csv file"
   ]
  },
  {
   "cell_type": "code",
   "execution_count": null,
   "id": "1d397d0e",
   "metadata": {},
   "outputs": [],
   "source": [
    "with open('tweet_data.txt','w',encoding = 'utf-8') as f:\n",
    "    for i in range(no_of_card):\n",
    "        f.write('username:'+tweet_data[i][0]+'\\n\\n')\n",
    "        f.write('Twitter handle:'+tweet_data[i][1]+'\\n\\n')\n",
    "        f.write('Content of tweet:\\n')\n",
    "        f.write(tweet_data[i][2]+'\\n\\n\\n\\n\\n')"
   ]
  }
 ],
 "metadata": {
  "kernelspec": {
   "display_name": "Python 3 (ipykernel)",
   "language": "python",
   "name": "python3"
  },
  "language_info": {
   "codemirror_mode": {
    "name": "ipython",
    "version": 3
   },
   "file_extension": ".py",
   "mimetype": "text/x-python",
   "name": "python",
   "nbconvert_exporter": "python",
   "pygments_lexer": "ipython3",
   "version": "3.10.11"
  }
 },
 "nbformat": 4,
 "nbformat_minor": 5
}
