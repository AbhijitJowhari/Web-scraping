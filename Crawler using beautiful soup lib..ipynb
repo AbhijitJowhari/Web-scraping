{
 "cells": [
  {
   "cell_type": "markdown",
   "id": "bceecde9",
   "metadata": {},
   "source": [
    "# Abhijit Singh Jowhari\n",
    "# 220031"
   ]
  },
  {
   "cell_type": "markdown",
   "id": "40077f5a",
   "metadata": {},
   "source": [
    "### Importig all the libraries and depth"
   ]
  },
  {
   "cell_type": "code",
   "execution_count": null,
   "id": "047519b0",
   "metadata": {},
   "outputs": [],
   "source": [
    "from bs4 import BeautifulSoup as bs\n",
    "from urllib.parse import urljoin\n",
    "import requests\n",
    "import logging"
   ]
  },
  {
   "cell_type": "code",
   "execution_count": null,
   "id": "47e3ce42",
   "metadata": {},
   "outputs": [],
   "source": [
    "depth = int(input(\"Enter the depth to which to crwal:\"))"
   ]
  },
  {
   "cell_type": "markdown",
   "id": "b17ed7ef",
   "metadata": {},
   "source": [
    "###  Modiji's Crawler ! :)"
   ]
  },
  {
   "cell_type": "code",
   "execution_count": null,
   "id": "9d233d16",
   "metadata": {},
   "outputs": [],
   "source": [
    "class ModijiCrawler:\n",
    "    def __init__(self,urls=[]):\n",
    "        self.tv = urls.copy()\n",
    "        self.v = []\n",
    "        self.lst = []\n",
    "        self.u= urls        \n",
    "    def downloadurl(self,url):\n",
    "        return requests.get(url).text\n",
    "    \n",
    "    def get_linked_urls(self,url,html):\n",
    "        page = bs(html, 'html.parser')\n",
    "        anchors = page.find_all('a')\n",
    "        for i in anchors:\n",
    "            path = i.get('href')\n",
    "            if path and path.startswith('/'):\n",
    "                path = urljoin(url,path)\n",
    "                yield path\n",
    "    \n",
    "    \n",
    "    def add_url_to_visit(self,url):\n",
    "        if url not in self.v and url not in self.tv:\n",
    "            self.tv.append(url)\n",
    "            self.lst.append(url)\n",
    "    \n",
    "    def crawl(self,urls):\n",
    "        html = self.downloadurl(urls)\n",
    "        for links in self.get_linked_urls(urls,html):\n",
    "            self.add_url_to_visit(links)\n",
    "    \n",
    "    def run(self):\n",
    "        for i in range(len(self.u)):\n",
    "            url = self.tv.pop(0)\n",
    "            try:\n",
    "                self.crawl(url)\n",
    "            except:\n",
    "                print('problem crawling page')\n",
    "            finally:\n",
    "                self.v.append(url)\n",
    "    \n",
    "        return self.lst"
   ]
  },
  {
   "cell_type": "markdown",
   "id": "a51133a3",
   "metadata": {},
   "source": [
    "### getting links till the depth specified."
   ]
  },
  {
   "cell_type": "code",
   "execution_count": null,
   "id": "db7e45da",
   "metadata": {},
   "outputs": [],
   "source": [
    "dict_1 = {1:['https://en.wikipedia.org/wiki/Narendra_Modi#Public_perception_and_image']}\n",
    "\n",
    "for i in range (2,depth+1):\n",
    "    temp = ModijiCrawler(urls = dict_1[i-1]).run()\n",
    "    dict_1[i] = temp\n",
    "print(dict_1)"
   ]
  }
 ],
 "metadata": {
  "kernelspec": {
   "display_name": "Python 3 (ipykernel)",
   "language": "python",
   "name": "python3"
  },
  "language_info": {
   "codemirror_mode": {
    "name": "ipython",
    "version": 3
   },
   "file_extension": ".py",
   "mimetype": "text/x-python",
   "name": "python",
   "nbconvert_exporter": "python",
   "pygments_lexer": "ipython3",
   "version": "3.10.11"
  }
 },
 "nbformat": 4,
 "nbformat_minor": 5
}
